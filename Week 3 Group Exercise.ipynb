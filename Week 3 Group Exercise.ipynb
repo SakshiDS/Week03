{
 "cells": [
  {
   "cell_type": "code",
   "execution_count": 5,
   "id": "c9188218",
   "metadata": {},
   "outputs": [],
   "source": [
    "def test(a,b):\n",
    "    sum = a+b\n",
    "    sub = a-b\n",
    "    mul = a*b\n",
    "    \n",
    "    if (sum == 0):\n",
    "        print(\"Sum of \",a,\"and \",b,\"is: \"+\"Zero\")\n",
    "    else:\n",
    "        print(\"Sum of \",a,\"and \",b,\"is: \", sum)\n",
    "        \n",
    "    if (sub == 0):\n",
    "        print(\"Sum of \",a,\"and \",b,\"is: \"+\"Zero\")\n",
    "    else:\n",
    "        print(\"Sum of \",a,\"and \",b,\"is: \", sub)\n",
    "        \n",
    "    if (mul == 0):\n",
    "        print(\"Sum of \",a,\"and \",b,\"is: \"+\"Zero\")\n",
    "    else:\n",
    "        print(\"Sum of \",a,\"and \",b,\"is: \", mul)"
   ]
  },
  {
   "cell_type": "code",
   "execution_count": 6,
   "id": "0e02f9d0",
   "metadata": {},
   "outputs": [
    {
     "name": "stdout",
     "output_type": "stream",
     "text": [
      "Sum of  3 and  5 is:  8\n",
      "Sum of  3 and  5 is:  -2\n",
      "Sum of  3 and  5 is:  15\n"
     ]
    }
   ],
   "source": [
    "test(3,5)"
   ]
  },
  {
   "cell_type": "code",
   "execution_count": 7,
   "id": "6ae98fc9",
   "metadata": {},
   "outputs": [
    {
     "name": "stdout",
     "output_type": "stream",
     "text": [
      "Sum of  3 and  3 is:  6\n",
      "Sum of  3 and  3 is: Zero\n",
      "Sum of  3 and  3 is:  9\n"
     ]
    }
   ],
   "source": [
    "test(3,3)"
   ]
  }
 ],
 "metadata": {
  "kernelspec": {
   "display_name": "Python 3 (ipykernel)",
   "language": "python",
   "name": "python3"
  },
  "language_info": {
   "codemirror_mode": {
    "name": "ipython",
    "version": 3
   },
   "file_extension": ".py",
   "mimetype": "text/x-python",
   "name": "python",
   "nbconvert_exporter": "python",
   "pygments_lexer": "ipython3",
   "version": "3.8.10"
  }
 },
 "nbformat": 4,
 "nbformat_minor": 5
}
